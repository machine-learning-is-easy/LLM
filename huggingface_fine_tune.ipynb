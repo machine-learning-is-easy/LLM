{
 "cells": [
  {
   "cell_type": "markdown",
   "metadata": {},
   "source": [
    "pip install transformers\n",
    "pip install transformers == 4.30 \n",
    "conda install -c huggingface transformers  "
   ]
  },
  {
   "cell_type": "markdown",
   "metadata": {},
   "source": [
    "```python\n",
    "import datasets\n",
    "from datasets import load_dataset\n",
    "from transformers import AutoTokenizer, AutoModel\n",
    "from transformers import AutoModelForCausalLM\n",
    "from transformers import TrainingArguments, Seq2SeqTrainingArguments\n",
    "from transformers import Trainer, Seq2SeqTrainer\n",
    "import transformers\n",
    "from transformers import DataCollatorWithPadding\n",
    "from transformers import TextGenerationPipeline\n",
    "import torch\n",
    "import numpy as np\n",
    "import os, re\n",
    "from tqdm import tqdm\n",
    "import torch.nn as nn\n",
    "```"
   ]
  },
  {
   "cell_type": "markdown",
   "metadata": {},
   "source": [
    "DATASET_NAME = \"rotten_tomatoes\" \n",
    "raw_datasets = load_dataset(DATASET_NAME)\n",
    "raw_train_dataset = raw_datasets[\"train\"]\n",
    "raw_valid_dataset = raw_datasets[\"validation\"]\n"
   ]
  },
  {
   "cell_type": "markdown",
   "metadata": {},
   "source": [
    "MODEL_NAME = \"gpt2\" \n",
    "\n",
    "model = AutoModelForCausalLM.from_pretrained(MODEL_NAME,trust_remote_code=True)"
   ]
  },
  {
   "cell_type": "markdown",
   "metadata": {},
   "source": [
    "tokenizer = AutoTokenizer.from_pretrained(MODEL_NAME,trust_remote_code=True)\n",
    "tokenizer.add_special_tokens({'pad_token': '[PAD]'})\n",
    "tokenizer.pad_token_id = 0"
   ]
  },
  {
   "cell_type": "markdown",
   "metadata": {
    "scrolled": true
   },
   "source": [
    "transformers.set_seed(42)\n",
    "named_labels = ['neg','pos']\n",
    "label_ids = [\n",
    "    tokenizer(named_labels[i],add_special_tokens=False)[\"input_ids\"][0] \n",
    "    for i in range(len(named_labels))\n",
    "]"
   ]
  },
  {
   "cell_type": "markdown",
   "metadata": {},
   "source": [
    "\n",
    "MAX_LEN=32   \n",
    "DATA_BODY_KEY = \"text\" \n",
    "DATA_LABEL_KEY = \"label\" \n",
    "def process_fn(examples):\n",
    "    model_inputs = {\n",
    "            \"input_ids\": [],\n",
    "            \"attention_mask\": [],\n",
    "            \"labels\": [],\n",
    "        }\n",
    "    for i in range(len(examples[DATA_BODY_KEY])):\n",
    "        inputs = tokenizer(examples[DATA_BODY_KEY][i],add_special_tokens=False)\n",
    "        label = label_ids[examples[DATA_LABEL_KEY][i]]\n",
    "        input_ids = inputs[\"input_ids\"] + [tokenizer.eos_token_id, label]\n",
    "        \n",
    "        raw_len = len(input_ids)\n",
    "        input_len = len(inputs[\"input_ids\"]) + 1\n",
    "\n",
    "        if raw_len >= MAX_LEN:\n",
    "            input_ids = input_ids[-MAX_LEN:]\n",
    "            attention_mask = [1] * MAX_LEN\n",
    "            labels = [-100]*(MAX_LEN - 1) + [label]\n",
    "        else:\n",
    "            input_ids = input_ids + [0] * (MAX_LEN - raw_len)\n",
    "            attention_mask = [1] * raw_len + [tokenizer.pad_token_id] * (MAX_LEN - raw_len)\n",
    "            labels = [-100]*input_len + [label] + [-100] * (MAX_LEN - raw_len)\n",
    "        model_inputs[\"input_ids\"].append(input_ids)\n",
    "        model_inputs[\"attention_mask\"].append(attention_mask)\n",
    "        model_inputs[\"labels\"].append(labels)\n",
    "    return model_inputs"
   ]
  },
  {
   "cell_type": "markdown",
   "metadata": {},
   "source": [
    "tokenized_train_dataset = raw_train_dataset.map(\n",
    "    process_fn,\n",
    "    batched=True,\n",
    "    remove_columns=raw_train_dataset.columns,\n",
    "    desc=\"Running tokenizer on train dataset\",\n",
    ")\n",
    "\n",
    "tokenized_valid_dataset = raw_valid_dataset.map(\n",
    "    process_fn,\n",
    "    batched=True,\n",
    "    remove_columns=raw_valid_dataset.columns,\n",
    "    desc=\"Running tokenizer on validation dataset\",\n",
    ")"
   ]
  },
  {
   "cell_type": "markdown",
   "metadata": {},
   "source": [
    "collater = DataCollatorWithPadding(\n",
    "    tokenizer=tokenizer, return_tensors=\"pt\",\n",
    ")"
   ]
  },
  {
   "cell_type": "markdown",
   "metadata": {},
   "source": [
    "LR=2e-5        \n",
    "BATCH_SIZE=8    \n",
    "INTERVAL=100    \n",
    "\n",
    "\n",
    "training_args = TrainingArguments(\n",
    "    output_dir=\"./output\",              \n",
    "    evaluation_strategy=\"steps\",        \n",
    "    overwrite_output_dir=True,\n",
    "    num_train_epochs=1,               \n",
    "    per_device_train_batch_size=BATCH_SIZE,    \n",
    "    gradient_accumulation_steps=1,              \n",
    "    per_device_eval_batch_size=BATCH_SIZE,      \n",
    "    logging_steps=INTERVAL,             \n",
    "    save_steps=INTERVAL,               \n",
    "    learning_rate=LR,                  \n",
    ")\n"
   ]
  },
  {
   "cell_type": "markdown",
   "metadata": {
    "scrolled": true
   },
   "source": [
    "model.gradient_checkpointing_enable()\n",
    "trainer = Trainer(\n",
    "    model=model, \n",
    "    args=training_args, \n",
    "    data_collator=collater, \n",
    "    train_dataset=tokenized_train_dataset,  \n",
    "    eval_dataset=tokenized_valid_dataset,  \n",
    "    # compute_metrics=compute_metric,         \n",
    ")"
   ]
  },
  {
   "cell_type": "markdown",
   "metadata": {},
   "source": [
    "trainer.train()"
   ]
  },
  {
   "cell_type": "markdown",
   "metadata": {},
   "source": [
    "```python\n",
    "from __future__ import print_function\n",
    "import torch\n",
    "import torch.nn as nn\n",
    "import torch.nn.functional as F\n",
    "import torch.optim as optim\n",
    "from torchvision import datasets, transforms\n",
    "from torch.optim.lr_scheduler import StepLR\n",
    "\n",
    "BATCH_SIZE = 64\n",
    "TEST_BACTH_SIZE = 1000\n",
    "EPOCHS = 5\n",
    "LR = 0.01\n",
    "SEED = 42\n",
    "LOG_INTERVAL = 100\n",
    "\n",
    "class FeedForwardNet(nn.Module):\n",
    "    def __init__(self):\n",
    "        super().__init__()\n",
    "        self.fc1 = nn.Linear(784, 256)\n",
    "        self.fc2 = nn.Linear(256, 128)\n",
    "        self.fc3 = nn.Linear(128, 64)\n",
    "        self.fc4 = nn.Linear(64, 10)\n",
    "\n",
    "        # Dropout module with 0.2 drop probability\n",
    "        self.dropout = nn.Dropout(p=0.2)\n",
    "\n",
    "    def forward(self, x):\n",
    "        x = x.view(x.shape[0], -1)\n",
    "        x = self.dropout(F.relu(self.fc1(x)))\n",
    "        x = self.dropout(F.relu(self.fc2(x)))\n",
    "        x = self.dropout(F.relu(self.fc3(x)))\n",
    "        x = F.log_softmax(self.fc4(x), dim=1)\n",
    "        return x\n",
    "\n",
    "\n",
    "def train(model, loss_fn, device, train_loader, optimizer, epoch):\n",
    "\n",
    "    model.train()\n",
    "    for batch_idx, (data_input, true_label) in enumerate(train_loader):\n",
    "        data_input, true_label = data_input.to(device), true_label.to(device)\n",
    "        optimizer.zero_grad()\n",
    "        output = model(data_input)\n",
    "        loss = loss_fn(output, true_label) \n",
    "        loss.backward()\n",
    "        optimizer.step()\n",
    "        if batch_idx % LOG_INTERVAL == 0:\n",
    "            print('Train Epoch: {} [{}/{} ({:.0f}%)]\\tLoss: {:.6f}'.format(\n",
    "                epoch, batch_idx * len(data_input), len(train_loader.dataset),\n",
    "                100. * batch_idx / len(train_loader), loss.item()))\n",
    "\n",
    "def test(model, loss_fn, device, test_loader):\n",
    "    model.eval()\n",
    "    test_loss = 0\n",
    "    correct = 0\n",
    "    with torch.no_grad():\n",
    "        for data, target in test_loader:\n",
    "            data, target = data.to(device), target.to(device)\n",
    "            output = model(data)\n",
    "            # sum up batch loss\n",
    "            test_loss += loss_fn(output, target, reduction='sum').item()\n",
    "            # get the index of the max log-probability\n",
    "            pred = output.argmax(dim=1, keepdim=True)\n",
    "            correct += pred.eq(target.view_as(pred)).sum().item()\n",
    "\n",
    "    test_loss /= len(test_loader.dataset)\n",
    "\n",
    "    print('\\nTest set: Average loss: {:.4f}, Accuracy: {}/{} ({:.0f}%)\\n'.format(\n",
    "        test_loss, correct, len(test_loader.dataset),\n",
    "        100. * correct / len(test_loader.dataset)))\n",
    "\n",
    "\n",
    "def main():\n",
    "    use_cuda = torch.cuda.is_available()\n",
    "    torch.manual_seed(SEED)\n",
    "    device = torch.device(\"cuda\" if use_cuda else \"cpu\")\n",
    "    train_kwargs = {'batch_size': BATCH_SIZE}\n",
    "    test_kwargs = {'batch_size': TEST_BACTH_SIZE}\n",
    "\n",
    "    if use_cuda:\n",
    "        cuda_kwargs = {'num_workers': 1,\n",
    "                       'pin_memory': True,\n",
    "                       'shuffle': True}\n",
    "        train_kwargs.update(cuda_kwargs)\n",
    "        test_kwargs.update(cuda_kwargs)\n",
    "\n",
    "    transform = transforms.Compose([\n",
    "        transforms.ToTensor(),\n",
    "        transforms.Normalize((0.1307,), (0.3081,))\n",
    "    ])\n",
    "\n",
    "    dataset_train = datasets.MNIST('data', train=True, download=True,\n",
    "                                   transform=transform)\n",
    "    dataset_test = datasets.MNIST('data', train=False,\n",
    "                                  transform=transform)\n",
    "\n",
    "    train_loader = torch.utils.data.DataLoader(dataset_train, **train_kwargs)\n",
    "    test_loader = torch.utils.data.DataLoader(dataset_test, **test_kwargs)\n",
    "\n",
    "    model = FeedForwardNet().to(device)\n",
    "\n",
    "    optimizer = optim.SGD(model.parameters(), lr=LR)\n",
    "    # scheduler = StepLR(optimizer, step_size=1, gamma=0.9)\n",
    "    # https://blog.csdn.net/weixin_38145317/article/details/103288032\n",
    "    loss_fn = F.nll_loss\n",
    "\n",
    "    for epoch in range(1, EPOCHS + 1):\n",
    "        train(model, loss_fn, device, train_loader, optimizer, epoch)\n",
    "        test(model, loss_fn, device, test_loader)\n",
    "        # scheduler.step()\n",
    "\n",
    "\n",
    "if __name__ == '__main__':\n",
    "    main()"
   ]
  }
 ],
 "metadata": {
  "kernelspec": {
   "display_name": "Python 3 (ipykernel)",
   "language": "python",
   "name": "python3"
  },
  "language_info": {
   "codemirror_mode": {
    "name": "ipython",
    "version": 3
   },
   "file_extension": ".py",
   "mimetype": "text/x-python",
   "name": "python",
   "nbconvert_exporter": "python",
   "pygments_lexer": "ipython3",
   "version": "3.11.7"
  }
 },
 "nbformat": 4,
 "nbformat_minor": 4
}
